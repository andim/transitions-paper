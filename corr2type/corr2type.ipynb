{
 "cells": [
  {
   "cell_type": "markdown",
   "metadata": {
    "deletable": true,
    "editable": true
   },
   "source": [
    "# Figure 6: Switching strategies are favored over a larger range of conditions if environmental states are temporally autocorrelated"
   ]
  },
  {
   "cell_type": "markdown",
   "metadata": {
    "deletable": true,
    "editable": true
   },
   "source": [
    "Goal: extend results for switching between two phenotypes to correlated environments\n",
    "\n",
    "Needs to be run with matplotlib 1.5 because it uses a bug of how image plotting works there on nonlinear axes"
   ]
  },
  {
   "cell_type": "code",
   "execution_count": null,
   "metadata": {
    "collapsed": false,
    "deletable": true,
    "editable": true
   },
   "outputs": [],
   "source": [
    "import numpy as np\n",
    "\n",
    "%matplotlib inline\n",
    "import matplotlib.pyplot as plt\n",
    "plt.style.use(['../transitions.mplstyle'])\n",
    "import matplotlib\n",
    "colors = matplotlib.rcParams['axes.prop_cycle'].by_key()['color']\n",
    "black = matplotlib.rcParams['text.color']\n",
    "from matplotlib import colors as mplcolors\n",
    "\n",
    "import sys\n",
    "sys.path.append('../lib/')\n",
    "import plotting\n",
    "import evolimmune, analysis"
   ]
  },
  {
   "cell_type": "code",
   "execution_count": null,
   "metadata": {
    "collapsed": false,
    "deletable": true,
    "editable": true
   },
   "outputs": [],
   "source": [
    "fig, ax1 = plt.subplots(nrows=1, ncols=1, figsize=(3.5, 2.25))\n",
    "\n",
    "df = analysis.loadnpz('data/opt.npz')\n",
    "df['tauenv'] = evolimmune.to_tau(df['aenv'])\n",
    "df['pi'] = df['alpha']/(df['alpha']+df['beta'])\n",
    "w1 = df.f21.mean()\n",
    "w2 = df.f12.mean()\n",
    "ymin, ymax = 0.09, 20.0\n",
    "\n",
    "cmap = mplcolors.LinearSegmentedColormap.from_list('mycmap', [colors[0], colors[1]])\n",
    "\n",
    "Z = df.pivot(index='tauenv', columns='pienv', values='pi')\n",
    "im, cbar = plotting.heatmap(Z, zlabel='optimal freq. of phenotype 2\\n'+r'$\\pi^\\star(\\sigma=2)$', cmap=cmap,\n",
    "                            vmin=0.0, vmax=1, interpolation='nearest', ax=ax1)\n",
    "cbar.outline.set_linewidth(0.0)\n",
    "ax1.plot(*evolimmune.plow(w1, w2, df.aenv.min()), c=black)\n",
    "ax1.plot(*evolimmune.phigh(w1, w2, df.aenv.min()), c=black)\n",
    "\n",
    "ax1.text(0.92, 0.2, r'$\\bm{\\sigma=2}$', va='center', ha='center', color=black, rotation=90)\n",
    "ax1.text(0.15, 0.2, r'$\\bm{\\sigma=1}$', va='center', ha='center', color=black)\n",
    "ax1.text(0.5, 1.5, r'\\bf switching between'+'\\n'+r'$\\bm{\\sigma=1}$ \\bf and $\\bm{\\sigma=2}$', va='center', ha='center', color=black)\n",
    "\n",
    "ax1.set_xlabel(r'frequency of env. 2, $p(x=2)$')\n",
    "ax1.set_ylabel('characteristic time of \\n env. state changes, $t_c$')\n",
    "ax1.set_xlim(0.0, 1.0)\n",
    "ax1.set_ylim(ymin, ymax)\n",
    "ax1.set_yscale('log')\n",
    "plotting.despine(ax1, spines='all')\n",
    "\n",
    "fig.tight_layout(pad=0.25)\n",
    "fig.savefig('../svgs/corr2type.svg')"
   ]
  },
  {
   "cell_type": "markdown",
   "metadata": {
    "collapsed": true,
    "deletable": true,
    "editable": true
   },
   "source": [
    "**Switching strategies are favored over a larger range of conditions if environmental states are temporally autocorrelated.**\n",
    "        Here we generalize the results of Fig. 3A-C about transitions between switching and pure specialist strategies by considering the influence of environmental correlation.\n",
    "        The numerically obtained optimal switching rate $\\pi^\\star(\\sigma=2)$ is plotted as a function of $t_c$, the characteristic time scale of environmental changes, and $p(x=2)$, the fraction of the time the environment is in state 2.\n",
    "        The range of environmental frequencies in which there is switching ($0 < \\pi^\\star < 1$) increases with temporal correlations.\n",
    "        As a comparison we also show the analytical transition lines obtained in the text."
   ]
  },
  {
   "cell_type": "code",
   "execution_count": null,
   "metadata": {
    "collapsed": true,
    "deletable": true,
    "editable": true
   },
   "outputs": [],
   "source": []
  }
 ],
 "metadata": {
  "anaconda-cloud": {},
  "kernelspec": {
   "display_name": "Python 2",
   "language": "python",
   "name": "python2"
  },
  "language_info": {
   "codemirror_mode": {
    "name": "ipython",
    "version": 2
   },
   "file_extension": ".py",
   "mimetype": "text/x-python",
   "name": "python",
   "nbconvert_exporter": "python",
   "pygments_lexer": "ipython2",
   "version": "2.7.13"
  },
  "toc": {
   "colors": {
    "hover_highlight": "#DAA520",
    "running_highlight": "#FF0000",
    "selected_highlight": "#FFD700"
   },
   "moveMenuLeft": true,
   "nav_menu": {
    "height": "12px",
    "width": "252px"
   },
   "navigate_menu": true,
   "number_sections": true,
   "sideBar": true,
   "threshold": 4,
   "toc_cell": false,
   "toc_section_display": "block",
   "toc_window_display": false
  }
 },
 "nbformat": 4,
 "nbformat_minor": 0
}
