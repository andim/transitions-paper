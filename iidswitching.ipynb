{
 "cells": [
  {
   "cell_type": "markdown",
   "metadata": {
    "deletable": true,
    "editable": true
   },
   "source": [
    "# Figure 4: Transitions between switching and non-switching strategies depend on environmental selectivity and environmental frequencies\n",
    "\n",
    "Goal: show analytical results on when switching is optimal in temporally uncorrelated environments"
   ]
  },
  {
   "cell_type": "code",
   "execution_count": null,
   "metadata": {
    "collapsed": false,
    "deletable": true,
    "editable": true
   },
   "outputs": [],
   "source": [
    "import numpy as np\n",
    "\n",
    "%matplotlib inline\n",
    "import matplotlib.pyplot as plt\n",
    "plt.style.use(['transitions.mplstyle'])\n",
    "import matplotlib\n",
    "colors = matplotlib.rcParams['axes.prop_cycle'].by_key()['color']\n",
    "black = matplotlib.rcParams['text.color']\n",
    "width = matplotlib.rcParams['axes.linewidth']\n",
    "from matplotlib import colors as mplcolors\n",
    "\n",
    "import sys\n",
    "sys.path.append('lib/')\n",
    "import plotting\n",
    "import evolimmune"
   ]
  },
  {
   "cell_type": "code",
   "execution_count": null,
   "metadata": {
    "collapsed": false,
    "deletable": true,
    "editable": true
   },
   "outputs": [],
   "source": [
    "def func(pienv, s):\n",
    "    return np.clip((pienv*(2.0-s) + s-1.0)/s, 0, 1)\n",
    "    \n",
    "s = np.linspace(0, 1)\n",
    "fig, axes = plt.subplots(figsize=(6.6, 2.7), ncols=2)\n",
    "\n",
    "ax = axes[0]\n",
    "cmap = mplcolors.LinearSegmentedColormap.from_list('mycmap', [colors[0], colors[1]])\n",
    "CS = ax.contour(func(s[:,None], s[None,:]), extent=(0, 1, 0, 1), cmap=cmap, levels=np.arange(0.2, 1.0, 0.2))\n",
    "ax.clabel(CS, inline=1, fmt='%g', manual=[(0.9, 0.2), (0.9, 0.4), (0.9, 0.6), (0.9, 0.8)])\n",
    "ax.plot(s, (1 - s)/(2 - s), color=black, lw=1.8)\n",
    "ax.plot(s, 1/(2 - s), color=black, lw=1.8)\n",
    "textkwargs = dict(ha='center', va='center')\n",
    "ax.text(0.35, 0.85, r'\\bf only $\\bm{\\sigma=2}$', color=colors[1], **textkwargs)\n",
    "ax.text(0.35, 0.16, r'\\bf only $\\bm{\\sigma=1}$', color=colors[0], **textkwargs)\n",
    "ax.text(0.7, 0.5, r'\\bf switching', color=black, **textkwargs)\n",
    "arrowprops = dict(edgecolor=black, facecolor=black, arrowstyle='-|>', lw=width)\n",
    "ax.annotate(\"\", xy=(0.99, 0.9), xytext=(0.99, 0.1), arrowprops=arrowprops)\n",
    "ax.text(1.03, 0.5, 'frequency of phenotype 2,\\n'+r'$\\pi^\\star(\\sigma=2)$', rotation=90,\n",
    "        va='center', ha='left', multialignment='center')\n",
    "ax.set_xlabel('selection coefficient,\\n $1-w$')\n",
    "ax.set_ylabel('frequency of environment 2,\\n$p(x=2)$')\n",
    "\n",
    "ax = axes[1]\n",
    "s0 = np.logspace(-3, 0, 100)\n",
    "ps = [0.2, 0.5, 0.8]\n",
    "for i, p in enumerate(ps):\n",
    "    l, = ax.plot(s0, s0/(s0+p/(1.0-p)), label='%g'%p, c=colors[i+3])\n",
    "    ax.plot(s0, (s0/(1.0-s0))*((1.0-p)/p), c=l.get_color())\n",
    "    ax.fill_between(s0, s0/(s0+p/(1.0-p)), (s0/(1.0-s0))*((1.0-p)/p), color=l.get_color(), alpha=.5)\n",
    "ax.set_xscale('log')\n",
    "ax.set_yscale('log')\n",
    "ax.set_xlim(0.01, 1)\n",
    "ax.set_ylim(0.01, 1)\n",
    "ax.legend(title='$p(x=2)$', loc='upper left', ncol=1)\n",
    "ax.set_xlabel('selection coefficient env. 1,\\n$1-w(x=1)$')\n",
    "ax.set_ylabel('selection coefficient env. 2,\\n$1-w(x=2)$')\n",
    "\n",
    "for ax in axes:\n",
    "    plotting.despine(ax)\n",
    "plotting.label_axes(axes, xy=(-0.2, 0.975))\n",
    "fig.tight_layout(w_pad=4.0)\n",
    "fig.savefig('svgs/iidswitching.svg')"
   ]
  },
  {
   "cell_type": "markdown",
   "metadata": {
    "collapsed": true,
    "deletable": true,
    "editable": true
   },
   "source": [
    "**Transitions between switching and non-switching strategies depend on environmental selectivity and environmental frequencies.** In a temporally uncorrelated environment changing randomly between two states, $1$ and $2$, a population of organisms is adapted optimally by either being in a single phenotypic state or by having a mixture of phenotypes (bet-hedging) depending on the statistics of the environment and the degree to which the phenotypes are specialized. In environment $x=1$ ($2$) phenotype $2$ ($1$) has replication rate $w_x$ relative to the other phenotype.\n",
    "(A) Transitions as a function of specialization level and environmental frequency in the symmetric case, $w_1 = w_2 = w$. The black lines mark the transition from single-phenotype to bet-hedging strategies: above the upper (lower) line the entire population optimally has phenotype 2 (1), between the two lines phenotypic diversification provides an advantage. The optimal fraction of phenotype $2$ in the bet-hedging region is shown by the colored lines.\n",
    "(B) Regions of selection factors in which bet-hedging is the preferred strategy (shaded areas) for environments with different frequencies of being in state $2$. Either strong selection or a precise mapping between the relative selection factors and the relative environmental frequencies are needed to make bet-hedging optimal. "
   ]
  },
  {
   "cell_type": "code",
   "execution_count": null,
   "metadata": {
    "collapsed": true,
    "deletable": true,
    "editable": true
   },
   "outputs": [],
   "source": []
  }
 ],
 "metadata": {
  "anaconda-cloud": {},
  "kernelspec": {
   "display_name": "Python [conda env:transitions]",
   "language": "python",
   "name": "conda-env-transitions-py"
  },
  "language_info": {
   "codemirror_mode": {
    "name": "ipython",
    "version": 2
   },
   "file_extension": ".py",
   "mimetype": "text/x-python",
   "name": "python",
   "nbconvert_exporter": "python",
   "pygments_lexer": "ipython2",
   "version": "2.7.13"
  },
  "toc": {
   "colors": {
    "hover_highlight": "#DAA520",
    "running_highlight": "#FF0000",
    "selected_highlight": "#FFD700"
   },
   "moveMenuLeft": true,
   "nav_menu": {
    "height": "41px",
    "width": "252px"
   },
   "navigate_menu": true,
   "number_sections": true,
   "sideBar": true,
   "threshold": 4,
   "toc_cell": false,
   "toc_section_display": "block",
   "toc_window_display": false
  }
 },
 "nbformat": 4,
 "nbformat_minor": 0
}
