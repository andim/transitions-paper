{
 "cells": [
  {
   "cell_type": "markdown",
   "metadata": {
    "deletable": true,
    "editable": true
   },
   "source": [
    "# Figure 7: Switching between specialists is preferred adaptation strategy in highly correlated environments \n",
    "\n",
    "We consider that there is a generalist type which does relatively well in both environments. For uncorrelated switching of environments there is then going to be a regime of environmental frequencies for which it is optimal to have a population of generalist individuals. Here we explore numerically how this result generalizes for correlated environments."
   ]
  },
  {
   "cell_type": "code",
   "execution_count": null,
   "metadata": {
    "collapsed": false,
    "deletable": true,
    "editable": true
   },
   "outputs": [],
   "source": [
    "import numpy as np\n",
    "\n",
    "%matplotlib inline\n",
    "import matplotlib.pyplot as plt\n",
    "plt.style.use(['../transitions.mplstyle'])\n",
    "import matplotlib\n",
    "colors = matplotlib.rcParams['axes.prop_cycle'].by_key()['color']\n",
    "black = matplotlib.rcParams['text.color']\n",
    "from matplotlib import colors as mplcolors\n",
    "\n",
    "import sys\n",
    "sys.path.append('../lib/')\n",
    "import evolimmune, analysis, plotting"
   ]
  },
  {
   "cell_type": "code",
   "execution_count": null,
   "metadata": {
    "collapsed": true,
    "deletable": true,
    "editable": true
   },
   "outputs": [],
   "source": [
    "df = analysis.loadnpz('data/opt.npz')"
   ]
  },
  {
   "cell_type": "code",
   "execution_count": null,
   "metadata": {
    "collapsed": false,
    "deletable": true,
    "editable": true
   },
   "outputs": [],
   "source": [
    "df['tauenv'] = evolimmune.to_tau(df['aenv'])\n",
    "columns = ['alpha','beta', 'gamma', 'delta', 'epsilon', 'zeta']\n",
    "df['pi1'] = df.apply(lambda row: evolimmune.steadystate3types([row[col] for col in columns])[0], axis=1)\n",
    "df['pi2'] = df.apply(lambda row: evolimmune.steadystate3types([row[col] for col in columns])[1], axis=1)\n",
    "df['pi3'] = df.apply(lambda row: evolimmune.steadystate3types([row[col] for col in columns])[2], axis=1)"
   ]
  },
  {
   "cell_type": "code",
   "execution_count": null,
   "metadata": {
    "collapsed": true,
    "deletable": true,
    "editable": true
   },
   "outputs": [],
   "source": [
    "varname_to_tex = dict(pi1='$\\pi^\\star(\\sigma=1)$', pi2='$\\pi^\\star(\\sigma=3)$', pi3='$\\pi^\\star(\\sigma=2)$')"
   ]
  },
  {
   "cell_type": "code",
   "execution_count": null,
   "metadata": {
    "collapsed": false,
    "deletable": true,
    "editable": true
   },
   "outputs": [],
   "source": [
    "f11, f21, f31, f12, f22, f32 = df['f11'].mean(), df['f31'].mean(), df['f21'].mean(), df['f12'].mean(), df['f32'].mean(), df['f22'].mean()"
   ]
  },
  {
   "cell_type": "code",
   "execution_count": null,
   "metadata": {
    "collapsed": false,
    "deletable": true,
    "editable": true
   },
   "outputs": [],
   "source": [
    "fig, axes = plt.subplots(ncols=3, figsize=(7, 2.4), sharex=True, sharey=True)\n",
    "ymin, ymax = 0.09, 20.0\n",
    "#boundarykwargs = dict(ylimmax=ymax, ylimmin=ymin, lw=7.5, color='w')\n",
    "variables = ['pi1', 'pi2', 'pi3']\n",
    "colororder = [0, 2, 1]\n",
    "for counter, var in enumerate(variables):\n",
    "    ax = axes[counter]\n",
    "    ax.set_title(varname_to_tex[var])\n",
    "    cmap = cmap = mplcolors.LinearSegmentedColormap.from_list('mycmap', ['w', colors[colororder[counter]]])\n",
    "    im, cbar = plotting.heatmap(df.pivot(index='tauenv', columns='pienv', values=var),\n",
    "                     imshow=True,\n",
    "                     zlabel=None,\n",
    "                     #zlabel=varname_to_tex[var],\n",
    "                     cmap=cmap, ax=ax,\n",
    "                     vmin=0.0, vmax=1.0,\n",
    "                     interpolation='nearest')\n",
    "    cbar.outline.set_linewidth(0.0)\n",
    "    ax.set_ylabel('')\n",
    "    ax.set_xlabel('')\n",
    "    ax.set_xlim(0.0, 1.0)\n",
    "    ax.set_ylim(ymin, ymax)\n",
    "    ax.grid(which='both', alpha=.5)\n",
    "    ax.set_yscale('log')\n",
    "    plotting.despine(ax, spines='all')\n",
    "\n",
    "# analytical lines for 13, 32 boundaries\n",
    "w1 = f31/f11\n",
    "w2 = f12/f32\n",
    "axes[0].plot(*evolimmune.plow(w1, w2, df.aenv.min()), c=black)\n",
    "axes[0].plot(*evolimmune.phigh(w1, w2, df.aenv.min()), c=black)\n",
    "axes[1].plot(*evolimmune.plow(w1, w2, df.aenv.min()), c=black)\n",
    "axes[1].plot(*evolimmune.phigh(w1, w2, df.aenv.min(), 0.43), c=black)\n",
    "w1 = f21/f31\n",
    "w2 = f32/f22\n",
    "axes[2].plot(*evolimmune.plow(w1, w2, df.aenv.min()), c=black)\n",
    "axes[2].plot(*evolimmune.phigh(w1, w2, df.aenv.min()), c=black)\n",
    "axes[1].plot(*evolimmune.plow(w1, w2, df.aenv.min(), 0.43), c=black)\n",
    "axes[1].plot(*evolimmune.phigh(w1, w2, df.aenv.min()), c=black)\n",
    "\n",
    "# approximate line above which pi(3) = 0 (from adiabatic limit)\n",
    "def Gamma(w1, w2):\n",
    "    return w2/(1.0-w2) + 1.0/(1.0-w1)\n",
    "c = -np.log(f32/f22)/(np.log(Gamma(f31/f11, f12/f32)/Gamma(f21/f11, f12/f22))+np.log(Gamma(f12/f32, f31/f11)/Gamma(f12/f22, f21/f11)))\n",
    "cstar = -np.log(f31/f11)/(np.log(Gamma(f21/f31, f32/f22)/Gamma(f21/f11, f12/f22))+np.log(Gamma(f32/f22, f21/f31)/Gamma(f12/f22, f21/f11)))\n",
    "a = np.linspace(1-c-cstar, df.aenv.max())\n",
    "p = 1.0 - c/(1.0-a)\n",
    "axes[1].plot(p, evolimmune.to_tau(a), color=black, linestyle='--')\n",
    "p = cstar/(1.0-a)\n",
    "axes[1].plot(p, evolimmune.to_tau(a), color=black, linestyle='--')\n",
    "\n",
    "\n",
    "axes[0].set_ylabel('characteristic time of \\n env. state changes, $t_c$')\n",
    "for ax in axes:\n",
    "    ax.set_xlabel('frequency of env. 2, $p(x=2)$')\n",
    "fig.suptitle(r'Optimal frequencies of phenotype $\\sigma$ in a lineage, $\\pi^\\star(\\sigma)$')\n",
    "fig.tight_layout(pad=0.25, rect=(0.0, 0.0, 1.0, 0.92))\n",
    "fig.savefig('../svgs/corr3type.svg')"
   ]
  },
  {
   "cell_type": "markdown",
   "metadata": {
    "collapsed": true,
    "deletable": true,
    "editable": true
   },
   "source": [
    "**Switching between specialists is the preferred adaptation strategy in highly correlated environments even if a generalist phenotype is optimal in uncorrelated environments.**\n",
    "        Here we generalize the results of Fig. 3D-F about transitions between switching, specialist, and single-phenotype generalist strategies by considering the influence of environmental correlation.\n",
    "        The numerically determined optimal frequencies of different phenotypes $\\pi^\\star(\\sigma)$ in a lineage are plotted as a function of $t_c$, the characteristic time scale of environmental changes, and $p(x=2)$, the fraction of the time the environment is in state 2.\n",
    "        As a comparison we also show the analytical transition lines between single-phenotype and switching strategies(solid lines) and the approximate transition line above which switching takes place between the two specialist phenotypes (dashed lines)."
   ]
  },
  {
   "cell_type": "code",
   "execution_count": null,
   "metadata": {
    "collapsed": true,
    "deletable": true,
    "editable": true
   },
   "outputs": [],
   "source": []
  }
 ],
 "metadata": {
  "anaconda-cloud": {},
  "kernelspec": {
   "display_name": "Python [conda env:transitions]",
   "language": "python",
   "name": "conda-env-transitions-py"
  },
  "language_info": {
   "codemirror_mode": {
    "name": "ipython",
    "version": 2
   },
   "file_extension": ".py",
   "mimetype": "text/x-python",
   "name": "python",
   "nbconvert_exporter": "python",
   "pygments_lexer": "ipython2",
   "version": "2.7.13"
  },
  "toc": {
   "colors": {
    "hover_highlight": "#DAA520",
    "running_highlight": "#FF0000",
    "selected_highlight": "#FFD700"
   },
   "moveMenuLeft": true,
   "nav_menu": {
    "height": "40px",
    "width": "252px"
   },
   "navigate_menu": true,
   "number_sections": true,
   "sideBar": true,
   "threshold": 4,
   "toc_cell": false,
   "toc_section_display": "block",
   "toc_window_display": false
  }
 },
 "nbformat": 4,
 "nbformat_minor": 0
}
