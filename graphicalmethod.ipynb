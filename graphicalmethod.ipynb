{
 "cells": [
  {
   "cell_type": "markdown",
   "metadata": {
    "deletable": true,
    "editable": true
   },
   "source": [
    "# Figure 2: Illustration of graphical method for finding best adaptation strategy in uncorrelated environments\n",
    "\n",
    "Goal: illustration of the steps of the graphical method"
   ]
  },
  {
   "cell_type": "code",
   "execution_count": null,
   "metadata": {
    "collapsed": false,
    "deletable": true,
    "editable": true
   },
   "outputs": [],
   "source": [
    "import numpy as np\n",
    "import scipy.spatial\n",
    "\n",
    "%matplotlib inline\n",
    "import matplotlib.pyplot as plt\n",
    "plt.style.use(['transitions.mplstyle'])\n",
    "import matplotlib\n",
    "colors = matplotlib.rcParams['axes.prop_cycle'].by_key()['color']\n",
    "from matplotlib import patches\n",
    "\n",
    "import sys\n",
    "sys.path.append('lib/')\n",
    "import evolimmune, plotting"
   ]
  },
  {
   "cell_type": "code",
   "execution_count": null,
   "metadata": {
    "collapsed": true,
    "deletable": true,
    "editable": true
   },
   "outputs": [],
   "source": [
    "def paretofrontier(points):\n",
    "    \"Naive Pareto frontier calculation of a set of points where along every axis larger is better\"\n",
    "    paretopoints = []\n",
    "    for point in points:\n",
    "        if not np.any(np.all(points - point > 0, axis=1)):\n",
    "            paretopoints.append(point)\n",
    "    paretopoints.sort(key=lambda row: row[0])\n",
    "    return np.asarray(paretopoints)"
   ]
  },
  {
   "cell_type": "code",
   "execution_count": null,
   "metadata": {
    "collapsed": false,
    "deletable": true,
    "editable": true
   },
   "outputs": [],
   "source": [
    "fs = []\n",
    "prng = np.random.RandomState(1234)\n",
    "while len(fs) < 20:\n",
    "    f = prng.rand(2)\n",
    "    a = 1.7\n",
    "    if f[1] < (1.0-f[0]**(1.0/a))**a and np.amin(f) > 0.04:\n",
    "        if not fs or (np.amin(np.sum((f - np.asarray(fs))**2, axis=1)**.5) > 0.05):\n",
    "            fs.append(f)\n",
    "fs = np.asarray(fs)"
   ]
  },
  {
   "cell_type": "code",
   "execution_count": null,
   "metadata": {
    "collapsed": false,
    "deletable": true,
    "editable": true
   },
   "outputs": [],
   "source": [
    "pienvs = [0.3, 0.7]\n",
    "fig, axes = plt.subplots(figsize=(7, 2), ncols=4, subplot_kw=dict(aspect='equal'))\n",
    "\n",
    "# plot phenotype fitnesses\n",
    "for ax in [axes[0], axes[1]]:\n",
    "    ax.scatter(fs[:, 0], fs[:, 1], color=colors[1])\n",
    "\n",
    "# calculate and plot convex hull\n",
    "hull = scipy.spatial.ConvexHull(fs)\n",
    "p = patches.Polygon(fs[hull.vertices], alpha=0.5, color=colors[1])\n",
    "axes[1].add_patch(p)\n",
    "\n",
    "# calc pareto\n",
    "pareto = [f for f in fs[hull.vertices] if f in paretofrontier(fs)]\n",
    "pareto.sort(key=lambda row: row[0])\n",
    "pareto = np.asarray(pareto)\n",
    "\n",
    "# plot pareto boundaries\n",
    "for ax in [axes[1], axes[2]]:\n",
    "    ax.plot(pareto[:, 0], pareto[:, 1], '-', c=colors[0], lw=2.0)\n",
    "for i in range(len(pareto)-1):\n",
    "    N = 100\n",
    "    x, y = pareto[i:i+2, 0], pareto[i:i+2, 1]\n",
    "    axes[3].plot(np.linspace(x[0], x[1], N), np.linspace(y[0], y[1], N), '-', c=colors[0], lw=2.0)  \n",
    "for ax in [axes[1], axes[2], axes[3]]:\n",
    "    ax.plot(pareto[:, 0], pareto[:, 1], 'o', c=colors[0], markeredgecolor=colors[0])\n",
    "\n",
    "# calc optimal fitnesses for different pienvs\n",
    "copts = []\n",
    "opts = []\n",
    "for pienv in pienvs:\n",
    "    for i in range(len(pareto)-1):\n",
    "        pih = evolimmune.pihat(pienv, pareto[i], pareto[i+1])\n",
    "        if 0.0 < pih < 1.0:\n",
    "            opt = pareto[i]*pih + pareto[i+1]*(1.0-pih)\n",
    "            opts.append(opt)\n",
    "    copts.append(pienv*np.log(opt[1]) + (1.0-pienv)*np.log(opt[0]))\n",
    "\n",
    "    \n",
    "# plot isolines\n",
    "f0 = np.linspace(0.001, 0.999)\n",
    "handles = [None, None]\n",
    "for i, copt in enumerate(copts):\n",
    "    pienv = pienvs[i]\n",
    "    alpha = (1.0-pienv)/pienv\n",
    "    for dc in [-0.2, 0.0, 0.2]:\n",
    "        c = copt + dc\n",
    "        for ax in [axes[2], axes[3]]:\n",
    "            l, = ax.plot(f0, np.exp(c/pienv)/f0**alpha, '-', c=colors[i+2], lw=.75, alpha=.5)\n",
    "            handles[i] = l\n",
    "axes[3].legend(handles, pienvs, title='$p(x=2)$')\n",
    "\n",
    "# plot opt\n",
    "for i, opt in enumerate(opts):\n",
    "    for ax in [axes[2], axes[3]]:\n",
    "        ax.plot(opt[0], opt[1], '*', c=colors[i+2], markeredgecolor=colors[i+2])\n",
    "\n",
    "# axes limits, labels, etc.\n",
    "for ax in [axes[0], axes[1], axes[2]]:\n",
    "    ax.set_xlim(0.0, 0.9)\n",
    "    ax.set_ylim(0.0, 0.9)\n",
    "    ax.set_xlabel('fitness in env. 1,\\n$f(x=1)$')\n",
    "    ax.set_ylabel('fitness in env. 2,\\n$f(x=2)$')\n",
    "ax = axes[3]\n",
    "ax.set_xlim(0.03, 1.5)\n",
    "ax.set_ylim(0.03, 1.5)\n",
    "ax.set_xscale('log')\n",
    "ax.set_yscale('log')\n",
    "ax.set_xlabel('log-fitness in env. 1,\\n$m(x=1)$')\n",
    "ax.set_ylabel('log-fitness in env. 2,\\n$m(x=2)$')\n",
    "for ax in axes:\n",
    "    plotting.despine(ax)\n",
    "    ax.set_xticks([])\n",
    "    ax.set_yticks([])\n",
    "plotting.label_axes(axes, xy=(-0.15, 0.95))\n",
    "fig.tight_layout(pad=0.25)\n",
    "fig.savefig('svgs/graphicalmethod.svg')"
   ]
  },
  {
   "cell_type": "markdown",
   "metadata": {
    "deletable": true,
    "editable": true
   },
   "source": [
    "**Illustration of the steps of a graphical method for finding the best adaptation strategy in uncorrelated environments.** (A) Fitness values of phenotypes across environments (orange dots). (B) Fitness values achievable by switching strategies (orange area) are those inside the convex hull of the fitness values of the different phenotypes. A necessary condition for optimality is to lie on the Pareto frontier (blue line). (C, D) The optimal strategy has the fitnesses (red/green star) at which the isolines of the long-term growth rate for given environmental frequencies (red lines for $p(2)=0.7$, green lines for $p(2)=0.3$) are tangential to the Pareto frontier. (C) In fitness space the isolines are curved. (D) To determine the optimal strategy it is more convenient to work in log-fitness space, where the isolines are straight lines."
   ]
  },
  {
   "cell_type": "code",
   "execution_count": null,
   "metadata": {
    "collapsed": true,
    "deletable": true,
    "editable": true
   },
   "outputs": [],
   "source": []
  }
 ],
 "metadata": {
  "anaconda-cloud": {},
  "kernelspec": {
   "display_name": "Python [conda env:transitions]",
   "language": "python",
   "name": "conda-env-transitions-py"
  },
  "language_info": {
   "codemirror_mode": {
    "name": "ipython",
    "version": 2
   },
   "file_extension": ".py",
   "mimetype": "text/x-python",
   "name": "python",
   "nbconvert_exporter": "python",
   "pygments_lexer": "ipython2",
   "version": "2.7.13"
  },
  "toc": {
   "colors": {
    "hover_highlight": "#DAA520",
    "running_highlight": "#FF0000",
    "selected_highlight": "#FFD700"
   },
   "moveMenuLeft": true,
   "nav_menu": {
    "height": "41px",
    "width": "252px"
   },
   "navigate_menu": true,
   "number_sections": true,
   "sideBar": true,
   "threshold": 4,
   "toc_cell": false,
   "toc_section_display": "block",
   "toc_window_display": false
  }
 },
 "nbformat": 4,
 "nbformat_minor": 0
}
