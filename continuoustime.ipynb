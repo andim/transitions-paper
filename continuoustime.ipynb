{
 "cells": [
  {
   "cell_type": "markdown",
   "metadata": {
    "deletable": true,
    "editable": true
   },
   "source": [
    "# Figure 9: Phase diagram in the continuous time limit"
   ]
  },
  {
   "cell_type": "code",
   "execution_count": 1,
   "metadata": {
    "collapsed": false,
    "deletable": true,
    "editable": true
   },
   "outputs": [],
   "source": [
    "import numpy as np\n",
    "\n",
    "%matplotlib inline\n",
    "import matplotlib.pyplot as plt\n",
    "plt.style.use(['transitions.mplstyle'])\n",
    "import matplotlib\n",
    "colors = matplotlib.rcParams['axes.prop_cycle'].by_key()['color']\n",
    "black = matplotlib.rcParams['text.color']\n",
    "\n",
    "import sys\n",
    "sys.path.append('lib/')\n",
    "import plotting"
   ]
  },
  {
   "cell_type": "code",
   "execution_count": 2,
   "metadata": {
    "collapsed": false,
    "deletable": true,
    "editable": true
   },
   "outputs": [
    {
     "data": {
      "image/png": "[encoded data removed]",
      "text/plain": [
       "<matplotlib.figure.Figure at 0x7fd5713f2c50>"
      ]
     },
     "metadata": {},
     "output_type": "display_data"
    }
   ],
   "source": [
    "lnw1 = -1.0\n",
    "lnw2 = -2.0\n",
    "\n",
    "fig, ax = plt.subplots(figsize=(3.0, 2.5))\n",
    "\n",
    "# plot transitions (straight lines from (p, 0) to (0, tc0) or (1, tc1)\n",
    "tc0 = -1.0/lnw2\n",
    "tc1 = -1.0/lnw1\n",
    "p = lnw1/(lnw1 + lnw2)\n",
    "ax.plot([p, 0.0], [0.0, tc0], '-')\n",
    "ax.plot([p, 1.0], [0.0, tc1], '-')\n",
    "\n",
    "ax.locator_params(axis='y', nbins=6)\n",
    "ax.set_ylim(0.0, 2.0)\n",
    "ax.set_xlim(0.0, 1.0)\n",
    "ax.set_xlabel('frequency of environment 2,\\n$p(x=2)$')\n",
    "ax.set_ylabel('characteristic time of \\n env. state changes, $t_c$')\n",
    "ax.text(0.8, 0.25, r'$\\sigma=2$', va='center', ha='center', color=colors[1])\n",
    "ax.text(0.1, 0.15, r'$\\sigma=1$', va='center', ha='center', color=colors[0])\n",
    "ax.text(0.4, 1.0, 'switching between\\n$\\sigma=1$ and $\\sigma=2$', va='center', ha='center', color=black)\n",
    "plotting.despine(ax)\n",
    "fig.tight_layout()\n",
    "\n",
    "fig.savefig('svgs/continuoustime.svg')"
   ]
  },
  {
   "cell_type": "markdown",
   "metadata": {
    "collapsed": true,
    "deletable": true,
    "editable": true
   },
   "source": [
    "**Phase diagram in the continuous time limit.** $t_c$ is the environment correlation time, and $p$ is the fraction of the time the environment is in state 2. On the left of the blue transition, the optimal solution is to have no protection. On the right of the red transition, the optimal solution is to have perfect protection. In between the optimal solution is mixed (bet hedging). The blue transition reaches $p=0$ at $t_c = -1/\\ln w_1$, while the red transition reaches $p=1$ at $t_c=-1/\\ln w_2$. The two transitions meet at $p=\\ln w_1/\\ln (w_1w_2)$ (dashed line). Parameters: $\\ln w_2=-2$ and $\\ln w_1=-1$."
   ]
  },
  {
   "cell_type": "code",
   "execution_count": null,
   "metadata": {
    "collapsed": true,
    "deletable": true,
    "editable": true
   },
   "outputs": [],
   "source": []
  }
 ],
 "metadata": {
  "anaconda-cloud": {},
  "kernelspec": {
   "display_name": "Python [conda env:transitions]",
   "language": "python",
   "name": "conda-env-transitions-py"
  },
  "language_info": {
   "codemirror_mode": {
    "name": "ipython",
    "version": 2
   },
   "file_extension": ".py",
   "mimetype": "text/x-python",
   "name": "python",
   "nbconvert_exporter": "python",
   "pygments_lexer": "ipython2",
   "version": "2.7.13"
  },
  "toc": {
   "colors": {
    "hover_highlight": "#DAA520",
    "running_highlight": "#FF0000",
    "selected_highlight": "#FFD700"
   },
   "moveMenuLeft": true,
   "nav_menu": {
    "height": "12px",
    "width": "252px"
   },
   "navigate_menu": true,
   "number_sections": true,
   "sideBar": true,
   "threshold": 4,
   "toc_cell": false,
   "toc_section_display": "block",
   "toc_window_display": false
  }
 },
 "nbformat": 4,
 "nbformat_minor": 0
}
