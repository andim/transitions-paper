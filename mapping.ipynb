{
 "cells": [
  {
   "cell_type": "markdown",
   "metadata": {
    "deletable": true,
    "editable": true
   },
   "source": [
    "# Figure S1: Mapping of the problem to the unit simplex helps optimizing long-term growth rate graphically.\n",
    "\n",
    "Goal: review a simpler, but less general graphical method due to Donaldson-Matasci et.al."
   ]
  },
  {
   "cell_type": "code",
   "execution_count": 1,
   "metadata": {
    "collapsed": false,
    "deletable": true,
    "editable": true
   },
   "outputs": [],
   "source": [
    "import numpy as np\n",
    "\n",
    "%matplotlib inline\n",
    "import matplotlib.pyplot as plt\n",
    "plt.style.use(['transitions.mplstyle'])\n",
    "import matplotlib\n",
    "colors = matplotlib.rcParams['axes.prop_cycle'].by_key()['color']\n",
    "black = matplotlib.rcParams['text.color']\n",
    "from matplotlib import colors as mplcolors\n",
    "from matplotlib import transforms\n",
    "\n",
    "import sys\n",
    "sys.path.append('lib/')\n",
    "import plotting"
   ]
  },
  {
   "cell_type": "code",
   "execution_count": 2,
   "metadata": {
    "collapsed": false,
    "deletable": true,
    "editable": true
   },
   "outputs": [
    {
     "data": {
      "image/png": "[encoded data removed]",
      "text/plain": [
       "<matplotlib.figure.Figure at 0x7f913e9c3510>"
      ]
     },
     "metadata": {},
     "output_type": "display_data"
    }
   ],
   "source": [
    "ms = 8\n",
    "\n",
    "fig, axes = plt.subplots(figsize=(6.0, 3.25), ncols=2, nrows=2, gridspec_kw=dict(height_ratios=[1.0, 0.3]))\n",
    "\n",
    "F = np.array([[0.11, 1.6], [0.6, 0.3]])\n",
    "c = np.linalg.inv(F).sum(axis=1)\n",
    "C = np.diag(c)\n",
    "Ftilde = F.dot(C)\n",
    "p = np.array([0.6, 0.4])\n",
    "fstar = p / c\n",
    "\n",
    "def plotpoints(ax, F):\n",
    "    cmap = mplcolors.LinearSegmentedColormap.from_list('mycmap', [colors[1], colors[0]])\n",
    "    x, y = plotting.highrespoints(F[:, 0], F[:, 1])\n",
    "    plotting.colorline(x, y, ax=ax, cmap=cmap, linewidth=2.0)\n",
    "    ax.plot(F[0, 0], F[0, 1], 'o', c=colors[1], markeredgecolor=colors[1])\n",
    "    ax.plot(F[1, 0], F[1, 1], 'o', c=colors[0], markeredgecolor=colors[0])\n",
    "\n",
    "ax = axes[0, 0]\n",
    "ax.plot([0, 1/c[0]], [1/c[1], 0], '-s', c=colors[3], markeredgecolor=colors[3], lw=.75, ms=5, zorder=-10)\n",
    "arrowprops = dict(facecolor=colors[3], edgecolor=colors[3],\n",
    "                  arrowstyle=\"->\", connectionstyle=\"arc3,rad=+0.2\", shrinkB=5)\n",
    "ax.annotate('$d_2$', xy=[0, 1/c[1]], xytext=[0.4, 1/c[1]-0.3], color=colors[3], arrowprops=arrowprops)\n",
    "ax.annotate('$d_1$', xy=[1/c[0], 0], xytext=[1/c[0]+0.4, 0.3], color=colors[3], arrowprops=arrowprops)\n",
    "plotpoints(ax, F)\n",
    "ax.set_xlabel('fitness in env. 1\\n$f(x=1)$')\n",
    "ax.set_ylabel('fitness in env. 1\\n$f(x=2)$')\n",
    "ax.set_xlim(0.0, 2.0)\n",
    "ax.set_ylim(0.0, 2.0)\n",
    "\n",
    "ax = axes[0, 1]\n",
    "ax.plot([0, 1], [1, 0], '-s', c=colors[3], markeredgecolor=colors[3], lw=.75, ms=5, zorder=-10)\n",
    "plotpoints(ax, Ftilde)\n",
    "ax.plot(p[0], p[1], '*', c=colors[3], markeredgecolor=colors[3], ms=ms)\n",
    "arrowprops = dict(edgecolor=colors[3], arrowstyle=\"->\", connectionstyle=\"arc3,rad=-0.2\", shrinkB=10)\n",
    "ax.annotate(r'$\\boldsymbol{\\tilde f}^\\star = \\boldsymbol p$',\n",
    "            xy=p,\n",
    "            xytext=[0.55, 0.8], color=colors[3],\n",
    "            arrowprops=arrowprops)\n",
    "ax.set_xlabel('scaled fitness in env. 1\\n'+r'$\\tilde f(x=1) = f(x=1) / d_1$')\n",
    "ax.set_ylabel('scaled fitness in env. 2\\n'+r'$\\tilde f(x=2) = f(x=2) / d_2$')\n",
    "ax.set_xlim(0.0, 1.0)\n",
    "ax.set_ylim(0.0, 1.0)\n",
    "\n",
    "ax = axes[1, 1]\n",
    "p = [0]\n",
    "p.extend(Ftilde[:, 0])\n",
    "p.append(1.0)\n",
    "piopts = np.array([[1, 0], [1, 0], [0, 1], [0, 1]])\n",
    "ax.stackplot(p, tuple(piopts.T), colors=[colors[1], colors[0]], edgecolor='None')\n",
    "ax.locator_params(nbins=3, axis='y')\n",
    "ax.set_xlabel(r'frequency of env. 1, $p(x=1)$')\n",
    "ax.set_ylabel(r'$\\pi^\\star(\\sigma)$')\n",
    "ax.set_xlim(0.0, 1.0)\n",
    "ax.set_ylim(0.0, 1.0)\n",
    "labelkwargs = dict(color=black, va='center', ha='center')\n",
    "ax.text(0.2, 0.4, r'$\\bm{\\sigma = 2}$', **labelkwargs)\n",
    "ax.text(0.8, 0.6, r'$\\bm{\\sigma = 1}$', **labelkwargs)\n",
    "\n",
    "arrowprops = dict(edgecolor='.4', arrowstyle='-', shrinkA=0, shrinkB=0, clip_on=False)\n",
    "blendedtransform = transforms.blended_transform_factory(axes[1, 1].transData, axes[0, 1].transData)\n",
    "axes[1, 1].annotate(\"\", xy=(Ftilde[0, 0], 0.0), xytext=(Ftilde[0, 0], Ftilde[0, 1]), textcoords=blendedtransform,\n",
    "     arrowprops=arrowprops, alpha=.5)\n",
    "axes[1, 1].annotate(\"\", xy=(Ftilde[1, 0], 0.0), xytext=(Ftilde[1, 0], Ftilde[1, 1]), textcoords=blendedtransform,\n",
    "     arrowprops=arrowprops, alpha=.5)\n",
    "\n",
    "axes[1, 0].axison = False\n",
    "flataxes = [axes[0, 0], axes[0, 1], axes[1, 1]]\n",
    "for ax in flataxes:\n",
    "    plotting.despine(ax)\n",
    "plotting.label_axes(flataxes, xy=(-0.28, 0.975))\n",
    "fig.tight_layout()\n",
    "fig.savefig('svgs/mapping.svg')"
   ]
  },
  {
   "cell_type": "markdown",
   "metadata": {
    "deletable": true,
    "editable": true
   },
   "source": [
    "**Mapping of the problem to the unit simplex helps optimizing long-term growth rate graphically.**\n",
    "            To determine the best strategy using two phenotypes (blue/orange dots) and their mixtures (colored line) we rescale the original fitnesses (A) such that the sum of fitnesses is constant (B).\n",
    "            To do so fitnesses are rescaled by dividing through the intercepts (red squares) of the line passing through the two points with the axes (red line). \n",
    "            In the scaled fitnesses the optimal strategy has fitness vector $\\boldsymbol{\\tilde f}^\\star = \\boldsymbol p$ (red star), which can be be mapped back to the original problem by reverting the rescaling.\n",
    "            Where the so-determined fitnesses lie between the fitnesses of the two phenotypes the optimal strategy switches between both phenotypes with frequencies relative to how far the optimum is from the two pure phenotypes.\n",
    "            If the optimal rescaled fitness lies outside a pure strategy using the closest phenotype is optimal.\n",
    "            (C) Optimal mixture of the two phenotypes as a function of the frequency of environmental state $1$. "
   ]
  },
  {
   "cell_type": "code",
   "execution_count": null,
   "metadata": {
    "collapsed": true,
    "deletable": true,
    "editable": true
   },
   "outputs": [],
   "source": []
  }
 ],
 "metadata": {
  "anaconda-cloud": {},
  "kernelspec": {
   "display_name": "Python [conda env:transitions]",
   "language": "python",
   "name": "conda-env-transitions-py"
  },
  "language_info": {
   "codemirror_mode": {
    "name": "ipython",
    "version": 2
   },
   "file_extension": ".py",
   "mimetype": "text/x-python",
   "name": "python",
   "nbconvert_exporter": "python",
   "pygments_lexer": "ipython2",
   "version": "2.7.13"
  },
  "toc": {
   "colors": {
    "hover_highlight": "#DAA520",
    "running_highlight": "#FF0000",
    "selected_highlight": "#FFD700"
   },
   "moveMenuLeft": true,
   "nav_menu": {
    "height": "12px",
    "width": "252px"
   },
   "navigate_menu": true,
   "number_sections": true,
   "sideBar": true,
   "threshold": 4,
   "toc_cell": false,
   "toc_section_display": "block",
   "toc_window_display": false
  }
 },
 "nbformat": 4,
 "nbformat_minor": 0
}
