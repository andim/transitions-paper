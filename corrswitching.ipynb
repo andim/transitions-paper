{
 "cells": [
  {
   "cell_type": "markdown",
   "metadata": {
    "deletable": true,
    "editable": true
   },
   "source": [
    "# Figure 8: Environmental correlations increase the range of fitness landscapes for which switching strategies are optimal\n",
    "\n",
    "Goal: Show how optimality of switching depends on fitnesses of phenotypes in correlated environments"
   ]
  },
  {
   "cell_type": "code",
   "execution_count": 1,
   "metadata": {
    "collapsed": false,
    "deletable": true,
    "editable": true
   },
   "outputs": [],
   "source": [
    "import numpy as np\n",
    "\n",
    "%matplotlib inline\n",
    "import matplotlib.pyplot as plt\n",
    "plt.style.use(['transitions.mplstyle'])\n",
    "import matplotlib\n",
    "colors = matplotlib.rcParams['axes.prop_cycle'].by_key()['color']\n",
    "black = matplotlib.rcParams['text.color']\n",
    "\n",
    "import sys\n",
    "sys.path.append('lib/')\n",
    "import plotting\n",
    "import evolimmune"
   ]
  },
  {
   "cell_type": "code",
   "execution_count": 2,
   "metadata": {
    "collapsed": true,
    "deletable": true,
    "editable": true
   },
   "outputs": [],
   "source": [
    "def s1(s0, aenv):\n",
    "    s1 = s0*(1.0-aenv*(1.0-s0))/((1.0 - s0)*(1.0-aenv*(1.0+s0)))\n",
    "    s1[s1 < 0] = np.nan\n",
    "    return s1"
   ]
  },
  {
   "cell_type": "code",
   "execution_count": 3,
   "metadata": {
    "collapsed": false,
    "deletable": true,
    "editable": true
   },
   "outputs": [
    {
     "name": "stderr",
     "output_type": "stream",
     "text": [
      "/home/andreas/miniconda2/envs/transitions/lib/python2.7/site-packages/ipykernel/__main__.py:2: RuntimeWarning: divide by zero encountered in divide\n",
      "  from ipykernel import kernelapp as app\n",
      "/home/andreas/miniconda2/envs/transitions/lib/python2.7/site-packages/matplotlib/scale.py:101: RuntimeWarning: invalid value encountered in less_equal\n",
      "  a[a <= 0.0] = 1e-300\n"
     ]
    },
    {
     "data": {
      "image/png": "[encoded data removed]",
      "text/plain": [
       "<matplotlib.figure.Figure at 0x7fd026d39fd0>"
      ]
     },
     "metadata": {},
     "output_type": "display_data"
    }
   ],
   "source": [
    "s0 = np.logspace(-3.0, 0.0, 100)\n",
    "tauenvs = [0.0, 1.0, 5.0, 20.0]\n",
    "fig, ax = plt.subplots(figsize=(3.0, 3.0), subplot_kw=dict(aspect='equal'))\n",
    "for i, tauenv in enumerate(tauenvs):\n",
    "    aenv = evolimmune.from_tau(tauenv)\n",
    "    l, = ax.plot(s0, s1(s0, aenv), label='%g'%tauenv, c=colors[i])\n",
    "    ax.plot(s1(s0, aenv), s0, c=l.get_color())\n",
    "ax.set_xscale('log')\n",
    "ax.set_yscale('log')\n",
    "ax.set_xlim(0.001, 1)\n",
    "ax.set_ylim(0.001, 1)\n",
    "ax.legend(title='characteristic time of \\n env. state changes, $t_c$', loc='lower right', ncol=2)\n",
    "ax.set_xlabel(r'selection coefficient env. 1, $1-w(x=1)$')\n",
    "ax.set_ylabel(r'selection coefficient env. 2, $1-w(x=2)$')\n",
    "plotting.despine(ax)\n",
    "fig.tight_layout()\n",
    "fig.savefig('svgs/corrswitching.svg')"
   ]
  },
  {
   "cell_type": "markdown",
   "metadata": {
    "collapsed": true,
    "deletable": true,
    "editable": true
   },
   "source": [
    "**Environmental correlations increase the range of fitness landscapes for which switching strategies are optimal.**\n",
    "        Region where switching is optimal (in between colored lines) as a function of environmental correlation time. Two state environment as in Fig. 4 with symmetric environmental frequencies, $p_2 = p_1 = 0.5$. Selection coefficient $1-w(x)$ quantifies how much the best adapted phenotype to environment $x$ outperforms the suboptimal phenotype for that environment."
   ]
  },
  {
   "cell_type": "code",
   "execution_count": null,
   "metadata": {
    "collapsed": true,
    "deletable": true,
    "editable": true
   },
   "outputs": [],
   "source": []
  }
 ],
 "metadata": {
  "anaconda-cloud": {},
  "kernelspec": {
   "display_name": "Python [conda env:transitions]",
   "language": "python",
   "name": "conda-env-transitions-py"
  },
  "language_info": {
   "codemirror_mode": {
    "name": "ipython",
    "version": 2
   },
   "file_extension": ".py",
   "mimetype": "text/x-python",
   "name": "python",
   "nbconvert_exporter": "python",
   "pygments_lexer": "ipython2",
   "version": "2.7.13"
  },
  "toc": {
   "colors": {
    "hover_highlight": "#DAA520",
    "running_highlight": "#FF0000",
    "selected_highlight": "#FFD700"
   },
   "moveMenuLeft": true,
   "nav_menu": {
    "height": "41px",
    "width": "252px"
   },
   "navigate_menu": true,
   "number_sections": true,
   "sideBar": true,
   "threshold": 4,
   "toc_cell": false,
   "toc_section_display": "block",
   "toc_window_display": false
  }
 },
 "nbformat": 4,
 "nbformat_minor": 0
}
