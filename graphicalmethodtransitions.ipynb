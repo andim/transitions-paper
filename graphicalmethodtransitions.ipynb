{
 "cells": [
  {
   "cell_type": "markdown",
   "metadata": {
    "deletable": true,
    "editable": true
   },
   "source": [
    "# Figure 3: Transitions of the optimal strategy as a function of environmental frequencies\n",
    "\n",
    "Goal: analyze transitions in optimal adaptive strategy in uncorrelated environment using a graphical method."
   ]
  },
  {
   "cell_type": "code",
   "execution_count": null,
   "metadata": {
    "collapsed": false,
    "deletable": true,
    "editable": true
   },
   "outputs": [],
   "source": [
    "import numpy as np\n",
    "\n",
    "%matplotlib inline\n",
    "import matplotlib.pyplot as plt\n",
    "plt.style.use(['transitions.mplstyle'])\n",
    "import matplotlib\n",
    "colors = matplotlib.rcParams['axes.prop_cycle'].by_key()['color']\n",
    "black = matplotlib.rcParams['text.color']\n",
    "from matplotlib import gridspec\n",
    "from matplotlib import colors as mplcolors\n",
    "\n",
    "import sys\n",
    "sys.path.append('lib/')\n",
    "import evolimmune, plotting"
   ]
  },
  {
   "cell_type": "code",
   "execution_count": null,
   "metadata": {
    "collapsed": true,
    "deletable": true,
    "editable": true
   },
   "outputs": [],
   "source": [
    "def optfitness(pienv, pareto):\n",
    "    \"\"\"return optimal fitness given pienv and pareto points\"\"\"\n",
    "    pi = np.zeros(len(pareto))\n",
    "    for i in range(len(pareto)-1):\n",
    "        pih = evolimmune.pihat(pienv, pareto[i], pareto[i+1])\n",
    "        if 0.0 < pih < 1.0:\n",
    "            opt = pareto[i]*pih + pareto[i+1]*(1.0-pih)\n",
    "            pi[i] = pih\n",
    "            pi[i+1] = 1.0-pih\n",
    "            return pi, opt\n",
    "        elif pih >= 1.0:\n",
    "            opt = pareto[i]\n",
    "            pi[i] = 1.0\n",
    "            return pi, opt\n",
    "    else:\n",
    "        opt = pareto[i+1]\n",
    "        pi[i+1] = 1.0\n",
    "        return pi, opt"
   ]
  },
  {
   "cell_type": "code",
   "execution_count": null,
   "metadata": {
    "collapsed": true,
    "deletable": true,
    "editable": true
   },
   "outputs": [],
   "source": [
    "def plot_transitions(axes, fs, colororder=None):\n",
    "    pareto = fs\n",
    "    if colororder is None:\n",
    "        colororder = range(fs.shape[0])\n",
    "\n",
    "    for ax in axes[:2]:\n",
    "        for i in range(len(pareto)-1):\n",
    "            N = 100\n",
    "            x, y = pareto[i:i+2, 0], pareto[i:i+2, 1]\n",
    "            cmap = mplcolors.LinearSegmentedColormap.from_list('mycmap', [colors[colororder[i]], colors[colororder[i+1]]])\n",
    "            plotting.colorline(np.linspace(x[0], x[1], N), np.linspace(y[0], y[1], N), ax=ax, cmap=cmap, linewidth=2.0)  \n",
    "            ax.scatter(pareto[:, 0], pareto[:, 1], facecolor=[colors[i] for i in colororder], edgecolor=[colors[i] for i in colororder])\n",
    "\n",
    "    ax = axes[0]\n",
    "    ax.set_xlim(0.0, 1.2)\n",
    "    ax.set_ylim(0.0, 1.2)\n",
    "    ax.set_xlabel('fitness in env. 1\\n$f(x=1)$')\n",
    "    ax.set_ylabel('fitness in env. 2\\n$f(x=2)$')\n",
    "\n",
    "    # calc opt\n",
    "    f0 = np.linspace(0.001, 0.999)\n",
    "    copts = []\n",
    "    opts = []\n",
    "    for counter, pienv in enumerate(np.arange(0.0, 1.01, 0.2)):\n",
    "        pi, opt = optfitness(pienv, pareto)\n",
    "        copt = pienv*np.log(opt[1]) + (1.0-pienv)*np.log(opt[0])\n",
    "        for ax in [axes[1]]:\n",
    "            ax.plot(opt[0], opt[1], 'x+'[counter%2], c='%s'%(pienv*0.8), markeredgecolor='%s'%(pienv*0.8))\n",
    "            if pienv > 0.0:\n",
    "                ax.plot(f0, np.exp(copt/pienv)/f0**((1.0-pienv)/pienv), '-', c='%s'%(pienv*0.8), lw=.5)\n",
    "            else:\n",
    "                ax.axvline(np.exp(copt), c='0.0', lw=.5)\n",
    "\n",
    "    ax = axes[1]\n",
    "    ax.set_xlim(0.125, 1.5)\n",
    "    ax.set_ylim(0.125, 1.5)\n",
    "    ax.set_xscale('log')\n",
    "    ax.set_yscale('log')\n",
    "    ax.set_xlabel('log-fitness in env. 1\\n$m(x=1)$')\n",
    "    ax.set_ylabel('log-fitness in env. 2\\n$m(x=2)$')\n",
    "\n",
    "    ax = axes[2]\n",
    "    pienvs = np.linspace(0, 1, 100)\n",
    "    piopts = np.zeros((len(pienvs), len(pareto)))\n",
    "    for i, pienv in enumerate(pienvs):\n",
    "        pi, opt = optfitness(pienv, pareto)\n",
    "        piopts[i] = pi\n",
    "    ax.stackplot(pienvs, tuple(piopts.T), colors=reversed([colors[i] for i in colororder]), edgecolor='None')\n",
    "    ax.set_yticks([0.0, 1.0])\n",
    "    ax.set_xlim([0.0, 1.0])\n",
    "    ax.set_xlabel(r'frequency of env. 1, $p(x=1)$')\n",
    "    ax.set_ylabel('phen. freq.\\n'+r'$\\pi^\\star(\\sigma)$')\n",
    "\n",
    "    for ax in axes:\n",
    "        plotting.despine(ax)\n",
    "    for ax in axes[:2]:\n",
    "        ax.set_xticks([])\n",
    "        ax.set_yticks([])"
   ]
  },
  {
   "cell_type": "code",
   "execution_count": null,
   "metadata": {
    "collapsed": false,
    "deletable": true,
    "editable": true
   },
   "outputs": [],
   "source": [
    "fig = plt.figure(figsize=(7.0, 2.6))\n",
    "labelkwargs = dict(color=black, va='center', ha='center')\n",
    "\n",
    "fs = np.asarray([[1.0, 0.3],\n",
    "     [0.4, 1.0]])\n",
    "gsleft = gridspec.GridSpec(2, 2, height_ratios=[2.1, 1]) \n",
    "axes = [fig.add_subplot(pos) for pos in [gsleft[0, 0], gsleft[0, 1], gsleft[1, :2]]]\n",
    "plot_transitions(axes, fs)\n",
    "xy = fs[1, :] + np.array([0.0, 0.04])\n",
    "axes[0].text(xy[0], xy[1], r'$\\sigma = 2$', horizontalalignment='center', verticalalignment='bottom', color=colors[1])\n",
    "xy = fs[0, :] + np.array([0.0, -0.04])\n",
    "axes[0].text(xy[0], xy[1], r'$\\sigma = 1$', horizontalalignment='center', verticalalignment='top', color=colors[0])\n",
    "axes[2].text(0.2, 0.4, r'$\\bm{\\sigma = 2}$', **labelkwargs)\n",
    "axes[2].text(0.8, 0.6, r'$\\bm{\\sigma = 1}$', **labelkwargs)\n",
    "plotting.label_axes(axes[:2], 'AB', xy=(-0.2, 0.95))\n",
    "plotting.label_axes(axes[2:], 'C', xy=(-0.12, 1.1))\n",
    "\n",
    "fs = np.asarray([[1.0, 0.2],\n",
    "                 [0.8, 0.7],\n",
    "                 [0.3, 1.0]])\n",
    "gsright = gridspec.GridSpec(2, 2, height_ratios=[2.1, 1]) \n",
    "axes = [fig.add_subplot(pos) for pos in [gsright[0, 0], gsright[0, 1], gsright[1, :2]]]\n",
    "plot_transitions(axes, fs, colororder=[0, 2, 1])\n",
    "xy = fs[0, :] + np.array([0.0, -0.04])\n",
    "axes[0].text(xy[0], xy[1], r'$\\bm{\\sigma = 1$', ha='center', va='top', color=colors[0])\n",
    "xy = fs[1, :] + np.array([0.05, 0.07])\n",
    "axes[0].text(xy[0], xy[1], r'$\\sigma = 3$', ha='center', va='bottom', color=colors[2])\n",
    "xy = fs[2, :] + np.array([0.0, 0.04])\n",
    "axes[0].text(xy[0], xy[1], r'$\\sigma = 2$', ha='center', va='bottom', color=colors[1])\n",
    "axes[2].text(0.1, 0.4, r'$\\bm{\\sigma = 2}$', **labelkwargs)\n",
    "axes[2].text(0.9, 0.6, r'$\\bm{\\sigma = 1}$', **labelkwargs)\n",
    "axes[2].text(0.5, 0.55, r'$\\bm{\\sigma = 3}$', **labelkwargs)\n",
    "plotting.label_axes(axes[:2], 'DE', xy=(-0.2, 0.95))\n",
    "plotting.label_axes(axes[2:], 'F', xy=(-0.12, 1.1))\n",
    "\n",
    "gsleft.tight_layout(fig, rect=(0, 0, 0.49, 1), w_pad=1.5, h_pad=0.4, pad=0.25)\n",
    "gsright.tight_layout(fig, rect=(0.51, 0, 1, 1), w_pad=1.5, h_pad=0.4, pad=0.25)\n",
    "fig.savefig('svgs/transitions.svg')"
   ]
  },
  {
   "cell_type": "markdown",
   "metadata": {
    "collapsed": true,
    "deletable": true,
    "editable": true
   },
   "source": [
    "**Transitions of the optimal strategy as a function of environmental frequencies without (A-C) and with (D-F) a generalist phenotype.**\n",
    "        (A,D) Pareto frontier of achievable fitness vectors by phenotypes (dots) and their mixtures (lines).\n",
    "        (B,E) In log-fitness space a tangent construction (grey lines) yields the optimal strategy (grey crosses) for different environments (from dark to light grey for $p_1=1 \\to p_1 = 0$ in $0.2$ steps).\n",
    "        (C,F) Transitions between switching and non-switching strategies as a function of the probability of encountering environment 1."
   ]
  },
  {
   "cell_type": "code",
   "execution_count": null,
   "metadata": {
    "collapsed": true,
    "deletable": true,
    "editable": true
   },
   "outputs": [],
   "source": []
  }
 ],
 "metadata": {
  "anaconda-cloud": {},
  "kernelspec": {
   "display_name": "Python [conda env:transitions]",
   "language": "python",
   "name": "conda-env-transitions-py"
  },
  "language_info": {
   "codemirror_mode": {
    "name": "ipython",
    "version": 2
   },
   "file_extension": ".py",
   "mimetype": "text/x-python",
   "name": "python",
   "nbconvert_exporter": "python",
   "pygments_lexer": "ipython2",
   "version": "2.7.13"
  },
  "toc": {
   "colors": {
    "hover_highlight": "#DAA520",
    "running_highlight": "#FF0000",
    "selected_highlight": "#FFD700"
   },
   "moveMenuLeft": true,
   "nav_menu": {
    "height": "31px",
    "width": "252px"
   },
   "navigate_menu": true,
   "number_sections": true,
   "sideBar": true,
   "threshold": 4,
   "toc_cell": false,
   "toc_section_display": "block",
   "toc_window_display": false
  }
 },
 "nbformat": 4,
 "nbformat_minor": 0
}
